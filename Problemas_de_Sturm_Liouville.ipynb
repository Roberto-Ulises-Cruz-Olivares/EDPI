{
  "nbformat": 4,
  "nbformat_minor": 0,
  "metadata": {
    "colab": {
      "provenance": [],
      "include_colab_link": true
    },
    "kernelspec": {
      "name": "python3",
      "display_name": "Python 3"
    },
    "language_info": {
      "name": "python"
    }
  },
  "cells": [
    {
      "cell_type": "markdown",
      "metadata": {
        "id": "view-in-github",
        "colab_type": "text"
      },
      "source": [
        "<a href=\"https://colab.research.google.com/github/Roberto-Ulises-Cruz-Olivares/EDPI/blob/main/Problemas_de_Sturm_Liouville.ipynb\" target=\"_parent\"><img src=\"https://colab.research.google.com/assets/colab-badge.svg\" alt=\"Open In Colab\"/></a>"
      ]
    },
    {
      "cell_type": "markdown",
      "source": [
        "CRUZ OLIVARES ROBERTO ULISES"
      ],
      "metadata": {
        "id": "5FwqEMbTj_4H"
      }
    },
    {
      "cell_type": "markdown",
      "source": [
        "#Problemas de Sturm-Liouville\n",
        "                           \n",
        "**Como resolverlos?**\n",
        "\n",
        "Idealmente lo funcional seria encontrar una libreria que analice por nosotros la k para poder determinar la **SOLUCION NO TRIVIAL**, pero no existe una funcion tal cual que lo haga, necesariamente nostros necesitamos saber el caso que nos da esta solucion no trivial. Para esta ocasion para poder determinar el caso de k:\n",
        "\n",
        "\n",
        "1.   $k>0$\n",
        "2.   $k=0$\n",
        "3.   $k<0$\n",
        "\n",
        "Plantemos el problema:\n",
        "$$\n",
        "X'' + kX = 0,   X(0)=X(1)=0\n",
        "$$\n",
        "el cual lo podemos reducir a:\n",
        "$$\n",
        "r^2+0*r+k=0\n",
        "$$\n",
        "es decir tenemos 3 casos posibles dependiendo de nuestra k\n",
        "\n",
        "\n",
        "1.   $w^2=k>0$\n",
        "$$\n",
        "X=A*cos(w*t) + B * sen(w*t)\n",
        "$$\n",
        "2.   $k=0$\n",
        "$$\n",
        "X=0\n",
        "$$\n",
        "3.   $-w^2=k<0$\n",
        "$$\n",
        "X= C_1*e^{w_1 t} + C_2*e^{w_2 t}\n",
        "$$\n",
        "Para evitarnos lo anterior, lo que se propuso es resolver la ecuacion numericamente y ver si graficamente se parace una funcion de exponenciales, senos o cosenos o combinacion de estos, despues de numericamente deducir el caso para la k se resolvio.\n"
      ],
      "metadata": {
        "id": "g5oQJDAeV8sk"
      }
    },
    {
      "cell_type": "markdown",
      "source": [
        "# 1. **Analizar numericamente la k para determinar el caso de:**\n",
        "$$\n",
        "X'' + kX = 0,   X(0)=X(1)=0\n",
        "$$\n",
        "Primero lo planteamos como un sistema de ecuaciones:\n",
        "$$\n",
        "X_1=X\n",
        "$$\n",
        "$$\n",
        "X_2=X'\n",
        "$$\n",
        "$$\n",
        "X_1'=X_2\n",
        "$$\n",
        "$$\n",
        "X_2'=-k*X_1\n",
        "$$"
      ],
      "metadata": {
        "id": "4Ksxh4STdPS8"
      }
    },
    {
      "cell_type": "code",
      "source": [
        "# Importamos librerias necesarias\n",
        "import numpy as np\n",
        "from scipy.integrate import solve_bvp\n",
        "import matplotlib.pyplot as plt\n",
        "\n",
        "# Definimos la funcion\n",
        "def fun(t, X, p):\n",
        "    k = p[0]\n",
        "    return np.vstack((X[1], -k * X[0]))   # Planteado como sistema de ecuaciones"
      ],
      "metadata": {
        "id": "y7HQVSxHKE6O"
      },
      "execution_count": 15,
      "outputs": []
    },
    {
      "cell_type": "markdown",
      "source": [
        "$$\n",
        "X_a[0]=X(0)\n",
        "$$\n",
        "$$\n",
        "X_a[1] = X'(0)\n",
        "$$\n",
        "$$\n",
        "X_b[0] = X(1)\n",
        "$$"
      ],
      "metadata": {
        "id": "h9J0OYrphpMB"
      }
    },
    {
      "cell_type": "code",
      "source": [
        "# Definimos las Condiciones Iniciales\n",
        "def CI(Xa, Xb, p):\n",
        "    k = p[0]\n",
        "    return np.array([Xa[0], Xb[0], Xa[1] - k]) # Este ultimo parametro es para ajustar las graficas con k\n",
        ""
      ],
      "metadata": {
        "id": "Wcr2JY2PhnDJ"
      },
      "execution_count": 16,
      "outputs": []
    },
    {
      "cell_type": "markdown",
      "source": [
        "**Graficando:**"
      ],
      "metadata": {
        "id": "bMHSyod8jMTw"
      }
    },
    {
      "cell_type": "code",
      "source": [
        "t = np.linspace(0, 1, 5)\n",
        "X = np.zeros((2, t.size))\n",
        "X[0, 1] = 1\n",
        "X[0, 3] = -1\n",
        "\n",
        "sol = solve_bvp(fun, CI, t, X, p=[6])\n",
        "t_plot = np.linspace(0, 1, 200)\n",
        "X_plot = sol.sol(t_plot)[0]\n",
        "\n",
        "plt.plot(t_plot, X_plot)\n",
        "plt.xlabel(\"t\")\n",
        "plt.ylabel(\"X(t)\")\n",
        "plt.title(\"Solución del BVP\")\n",
        "plt.grid(True)\n",
        "plt.show()"
      ],
      "metadata": {
        "colab": {
          "base_uri": "https://localhost:8080/",
          "height": 472
        },
        "id": "SqL_PQLafOAN",
        "outputId": "b9563996-5580-40fa-f173-994d8d91081f"
      },
      "execution_count": 17,
      "outputs": [
        {
          "output_type": "display_data",
          "data": {
            "text/plain": [
              "<Figure size 640x480 with 1 Axes>"
            ],
            "image/png": "[encoded data removed]"
          },
          "metadata": {}
        }
      ]
    },
    {
      "cell_type": "markdown",
      "source": [
        "# **2. Determinado el caso, resolvemos la EDO:**"
      ],
      "metadata": {
        "id": "E6LYpxQzdneA"
      }
    },
    {
      "cell_type": "code",
      "source": [
        "import sympy as sp\n",
        "\n",
        "# Variables simbolicas\n",
        "x, r = sp.symbols('x r', real=True)\n",
        "k = sp.symbols('k', real=True)\n",
        "C1, C2 = sp.symbols('C1 C2')\n",
        "\n",
        "# Ecuacion caracteristica: r^2 + k = 0\n",
        "char_eq = sp.Eq(r**2 + k, 0)\n",
        "roots = sp.solve(char_eq, r)\n",
        "\n",
        "# Dependiendo de las raices, construimos la solucion general automaticamente\n",
        "r1, r2 = roots[0], roots[1]\n",
        "\n",
        "# Solucion general basada en las raices\n",
        "# Si son complejas: usaremos sin y cos\n",
        "if sp.im(r1) != 0:\n",
        "    sqrt_k = sp.sqrt(k)\n",
        "    X = C1 * sp.cos(sqrt_k * x) + C2 * sp.sin(sqrt_k * x)\n",
        "elif r1 == r2:\n",
        "    X = C1 * sp.exp(r1 * x) + C2 * x * sp.exp(r1 * x)\n",
        "else:\n",
        "    X = C1 * sp.exp(r1 * x) + C2 * sp.exp(r2 * x)\n",
        "\n",
        "# Aplicar condiciones de frontera: X(0) = 0 y X(1) = 0\n",
        "X0 = X.subs(x, 0)\n",
        "X1 = X.subs(x, 1)\n",
        "\n",
        "# Resolver sistema homogeneo\n",
        "eq1 = sp.Eq(X0, 0)\n",
        "eq2 = sp.Eq(X1, 0)\n",
        "\n",
        "# Eliminamos C1 usando la primera ecuacion\n",
        "sol_C1 = sp.solve(eq1, C1)\n",
        "if sol_C1:\n",
        "    eq2 = eq2.subs(C1, sol_C1[0])\n",
        "\n",
        "# Simplificar segunda condicion\n",
        "simplified = sp.simplify(eq2.lhs)\n",
        "\n",
        "# Factorizamos para buscar valores de k que dan soluciones no triviales\n",
        "print(\"Condicion para que exista solucion no trivial:\")\n",
        "sp.pprint(simplified)\n",
        "\n",
        "# Encontrar valores de k que anulen la expresion (sin que C2 = 0)\n",
        "k_values = sp.solve(simplified, k)\n",
        "\n",
        "print(\"\\nValores de k que permiten soluciones no triviales:\")\n",
        "for val in k_values:\n",
        "    sp.pprint(val)\n"
      ],
      "metadata": {
        "colab": {
          "base_uri": "https://localhost:8080/"
        },
        "id": "ACbgAPQ1POHj",
        "outputId": "be9c1f89-6782-443a-91ac-95dfa4bf22a5"
      },
      "execution_count": 18,
      "outputs": [
        {
          "output_type": "stream",
          "name": "stdout",
          "text": [
            "Condición para que exista solución no trivial:\n",
            "C₂⋅sin(√k)\n",
            "\n",
            "Valores de k que permiten soluciones no triviales:\n",
            "0\n",
            " 2\n",
            "π \n"
          ]
        }
      ]
    },
    {
      "cell_type": "markdown",
      "source": [
        "# 1. **Analizar numericamente la k para determinar el caso de:**\n",
        "$$\n",
        "X'' + kX = 0,   X'(0)=X'(1)=0\n",
        "$$"
      ],
      "metadata": {
        "id": "0R_4T-4pkrQD"
      }
    },
    {
      "cell_type": "code",
      "source": [
        "import numpy as np\n",
        "from scipy.integrate import solve_bvp\n",
        "import matplotlib.pyplot as plt\n",
        "\n",
        "# Sistema de EDOs: X'' + kX = 0 se reescribe como:\n",
        "# X[0] = X    y    X[1] = X'\n",
        "# Con:   X[0]' = X[1]     y     X[1]' = -k*X[0]\n",
        "def fun(t, X, p):\n",
        "    k = p[0]\n",
        "    return np.vstack((X[1], -k * X[0]))  # Representa el sistema\n",
        "\n",
        "# Condiciones de frontera:\n",
        "# Se imponen:  X'(0)=0, X'(1)=0, y X(0)=1 (para evitar la solución trivial)\n",
        "def CI(Xa, Xb, p):\n",
        "    return np.array([Xa[1], Xb[1], Xa[0] - 1])\n",
        "\n",
        "\n",
        "t = np.linspace(0, 1, 5)\n",
        "X = np.zeros((2, t.size))\n",
        "X[0, 1] = 1\n",
        "X[0, 3] = -1\n",
        "\n",
        "\n",
        "sol = solve_bvp(fun, CI, t, X, p=[10])  # p=[10] es la suposición inicial para el parametro k\n",
        "\n",
        "\n",
        "t_plot = np.linspace(0, 1, 200)\n",
        "X_plot = sol.sol(t_plot)[0]  # Se obtiene X(t) de la solución\n",
        "\n",
        "# Graficar la solucion\n",
        "plt.plot(t_plot, X_plot)\n",
        "plt.xlabel(\"t\")\n",
        "plt.ylabel(\"X(t)\")\n",
        "plt.title(\"Solucion del BVP (modo propio)\")\n",
        "plt.grid(True)\n",
        "plt.show()\n"
      ],
      "metadata": {
        "colab": {
          "base_uri": "https://localhost:8080/",
          "height": 472
        },
        "id": "EAePfEDrSldp",
        "outputId": "4c74bc8b-2188-468d-a686-588dacad01b3"
      },
      "execution_count": 19,
      "outputs": [
        {
          "output_type": "display_data",
          "data": {
            "text/plain": [
              "<Figure size 640x480 with 1 Axes>"
            ],
            "image/png": "[encoded data removed]"
          },
          "metadata": {}
        }
      ]
    },
    {
      "cell_type": "markdown",
      "source": [
        "# **Resolucion de la EDO**"
      ],
      "metadata": {
        "id": "0vkz3pqamir2"
      }
    },
    {
      "cell_type": "code",
      "source": [
        "import sympy as sp\n",
        "\n",
        "# Variables simbolicas\n",
        "x, r = sp.symbols('x r', real=True)\n",
        "k = sp.symbols('k', real=True)\n",
        "C1, C2 = sp.symbols('C1 C2')\n",
        "\n",
        "# Ecuación caracteristica\n",
        "char_eq = sp.Eq(r**2 + k, 0)\n",
        "roots = sp.solve(char_eq, r)\n",
        "r1, r2 = roots\n",
        "\n",
        "# (raices complejas)\n",
        "if sp.im(r1) != 0:\n",
        "    sqrt_k = sp.sqrt(k)\n",
        "    X = C1 * sp.cos(sqrt_k * x) + C2 * sp.sin(sqrt_k * x)\n",
        "elif r1 == r2:\n",
        "    X = C1 * sp.exp(r1 * x) + C2 * x * sp.exp(r1 * x)\n",
        "else:\n",
        "    X = C1 * sp.exp(r1 * x) + C2 * sp.exp(r2 * x)\n",
        "\n",
        "# Derivada de la solucion\n",
        "X_deriv = sp.diff(X, x)\n",
        "\n",
        "# Aplicar condiciones de frontera: X'(0) = 0, X'(1) = 0\n",
        "X0p = X_deriv.subs(x, 0)\n",
        "X1p = X_deriv.subs(x, 1)\n",
        "\n",
        "# Resolver X'(0) = 0 para C2\n",
        "eq1 = sp.Eq(X0p, 0)\n",
        "sol_C2 = sp.solve(eq1, C2)\n",
        "\n",
        "if sol_C2:\n",
        "    # Sustituir C2 en la segunda ecuacion\n",
        "    eq2 = sp.Eq(X1p.subs(C2, sol_C2[0]), 0)\n",
        "    simplified = sp.simplify(eq2.lhs)\n",
        "\n",
        "    print(\" Condicion para que exista solucion no trivial:\")\n",
        "    sp.pprint(simplified)\n",
        "\n",
        "    # Resolver para valores de k\n",
        "    k_values = sp.solve(simplified, k)\n",
        "    print(\"\\n Valores de k que permiten soluciones no triviales:\")\n",
        "    for val in k_values:\n",
        "        sp.pprint(val)\n",
        "\n",
        "    # Mostrar la forma final de la solucion\n",
        "    print(\"\\n Solución general deducida:\")\n",
        "    X_final = X.subs(C2, sol_C2[0])\n",
        "    sp.pprint(X_final)\n",
        "else:\n",
        "    print(\"  Solo existe la solucion trivial.\")\n"
      ],
      "metadata": {
        "colab": {
          "base_uri": "https://localhost:8080/"
        },
        "id": "PCbxAzxfVjJD",
        "outputId": "86980dba-ddc1-45a4-9a94-ee62f9a4342c"
      },
      "execution_count": 20,
      "outputs": [
        {
          "output_type": "stream",
          "name": "stdout",
          "text": [
            " Condición para que exista solución no trivial:\n",
            "-C₁⋅√k⋅sin(√k)\n",
            "\n",
            " Valores de k que permiten soluciones no triviales:\n",
            "0\n",
            " 2\n",
            "π \n",
            "\n",
            " Solución general deducida:\n",
            "C₁⋅cos(√k⋅x)\n"
          ]
        }
      ]
    }
  ]
}